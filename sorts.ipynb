{
 "cells": [
  {
   "cell_type": "code",
   "execution_count": 64,
   "metadata": {},
   "outputs": [],
   "source": [
    "import random\n",
    "import time"
   ]
  },
  {
   "cell_type": "code",
   "execution_count": 120,
   "metadata": {},
   "outputs": [],
   "source": [
    "#1.冒泡排序\n",
    "def bubble_sort(seq):\n",
    "    n = len(seq)\n",
    "    for i in range(n-1,0,-1):\n",
    "        for j in range(i):\n",
    "            if seq[j] > seq[j+1]:\n",
    "                seq[j],seq[j+1] = seq[j+1],seq[j]\n",
    "    return seq\n",
    "\n",
    "#2.插入排序\n",
    "def insert_sort(seq):\n",
    "\tn = len(seq)\n",
    "\tfor i in range(1, n):\n",
    "\t\tloci = i - 1 #key就是我们要找到的放的地方\n",
    "\t\tmark = seq[i]    \n",
    "\t\twhile loci >= 0 and seq[loci] > mark: #比seq[i]大就把这个元素往后挪一位\n",
    "\t\t\tseq[loci+1] = seq[loci]\n",
    "\t\t\tloci -= 1\n",
    "\t\tseq[loci+1] = mark\n",
    "\treturn seq\n",
    "\n",
    "#3.选择排序\n",
    "def selection_sort(seq):\n",
    "    n = len(seq)\n",
    "    for i in range(n):\n",
    "        min_index = i\n",
    "        for j in range(i+1,n):\n",
    "            if seq[j] < seq[min_index]:\n",
    "                min_index = j\n",
    "        if min_index != i:\n",
    "            seq[i],seq[min_index] = seq[min_index],seq[i]\n",
    "    return seq\n",
    "\n",
    "#4.希尔排序，Hibbard增量\n",
    "import math\n",
    "def Shell_sort(seq):\n",
    "    n = len(seq)\n",
    "    k = int(math.log(n,2))\n",
    "    interval = 2**k-1\n",
    "    while interval > 0: #内部是一个插入排序，将新的元素和已有序列依次比较，如果大就放下，小就下一个\n",
    "        for i in range(interval,n):\n",
    "            j = i\n",
    "            while j >= interval and seq[j-interval] > seq[j]:\n",
    "                seq[j-interval],seq[j] = seq[j],seq[j-interval]\n",
    "                j -= interval\n",
    "        k -= 1\n",
    "        interval = 2**k-1\n",
    "    return seq\n"
   ]
  },
  {
   "cell_type": "code",
   "execution_count": 124,
   "metadata": {},
   "outputs": [
    {
     "output_type": "stream",
     "name": "stdout",
     "text": "Running time: 0.5446819999965555 Seconds\n"
    }
   ],
   "source": [
    "all_time = 0\n",
    "for p in range(100):\n",
    "    seq = [i for i in range(1,1001)]\n",
    "    random.shuffle(seq)\n",
    "    start = time.clock()\n",
    "    #selection_sort(seq) #Running time: 6.422700699996767 Seconds\n",
    "    #bubble_sort(seq)    #Running time: 13.207959200000914 Seconds\n",
    "    #insert_sort(seq)    #Running time: 6.12498990000131 Seconds\n",
    "    #Shell_sort(seq)     #Running time: 0.5464581999995062 Seconds\n",
    "    end = time.clock()\n",
    "    all_time += (end - start)\n",
    "print('Running time: %s Seconds'%(all_time))"
   ]
  },
  {
   "cell_type": "code",
   "execution_count": null,
   "metadata": {},
   "outputs": [],
   "source": []
  }
 ],
 "metadata": {
  "language_info": {
   "codemirror_mode": {
    "name": "ipython",
    "version": 3
   },
   "file_extension": ".py",
   "mimetype": "text/x-python",
   "name": "python",
   "nbconvert_exporter": "python",
   "pygments_lexer": "ipython3",
   "version": "3.7.4-final"
  },
  "orig_nbformat": 2,
  "kernelspec": {
   "name": "python3",
   "display_name": "Python 3"
  }
 },
 "nbformat": 4,
 "nbformat_minor": 2
}