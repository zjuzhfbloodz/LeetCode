{
 "cells": [
  {
   "cell_type": "code",
   "execution_count": 1,
   "metadata": {},
   "outputs": [],
   "source": [
    "import random\n",
    "import time\n",
    "\n",
    "# 冒泡排序\n",
    "def bubble_sort(seq):\n",
    "    n = len(seq)\n",
    "    while True:\n",
    "        state = 0 \n",
    "        for j in range(n-1):\n",
    "            if seq[j] > seq[j+1]:\n",
    "                seq[j],seq[j+1] = seq[j+1],seq[j]\n",
    "                state = 1\n",
    "        if not state: break #一次遍历没有变化就break\n",
    "    return seq\n",
    "# 选择排序\n",
    "def select_sort(seq):\n",
    "    n = len(seq)\n",
    "    for i in range(n):\n",
    "        mini = i\n",
    "        for j in range(i,n):\n",
    "            if seq[j] < seq[mini]:\n",
    "                mini = j\n",
    "        seq[mini],seq[i] = seq[i],seq[mini]\n",
    "    return seq\n",
    "# 插入排序\n",
    "def insert_sort(seq):\n",
    "    n = len(seq)\n",
    "    for i in range(1,n):\n",
    "        value = seq[i]\n",
    "        loc = i-1\n",
    "        while loc >= 0 and seq[loc] > value:\n",
    "            seq[loc+1] = seq[loc]\n",
    "            loc -= 1\n",
    "        seq[loc+1] = value\n",
    "    return seq\n",
    "        \n",
    "# 希尔排序\n",
    "import math\n",
    "def Shell_sort(seq):\n",
    "    n = len(seq)\n",
    "    k = int(math.log(n,2))\n",
    "    step = 2**k-1\n",
    "    while step > 0:\n",
    "        for i in range(step,n):\n",
    "            index = i-step\n",
    "            value = seq[i]\n",
    "            while index >= 0 and seq[index] > value:\n",
    "                seq[index+step] = seq[index]\n",
    "                index -= step\n",
    "            seq[index+step] = value\n",
    "        k -= 1\n",
    "        step = 2**k-1\n",
    "    return seq\n",
    "\n",
    "# 归并排序\n",
    "'''合并操作，将两个有序数组left[]和right[]合并成一个大的有序数组'''\n",
    "def merge(left,right):\n",
    "    r = []\n",
    "    while left and right:\n",
    "        if left[0] >= right[0]:\n",
    "            r.append(right.pop(0))\n",
    "        else:\n",
    "            r.append(left.pop(0))\n",
    "    r += left\n",
    "    r += right\n",
    "    return r\n",
    "def merge_sort(seq):\n",
    "    n = len(seq)\n",
    "    if n <= 1: return seq\n",
    "    mid = n//2\n",
    "    left = merge_sort(seq[:mid])\n",
    "    right = merge_sort(seq[mid:])\n",
    "    return merge(left,right)\n",
    "\n",
    "\n",
    "# 快速排序\n",
    "def quick_sort(seq):\n",
    "    l,r = 0,len(seq)-1\n",
    "    return qsort(seq,l,r)\n",
    "\n",
    "def qsort(seq,l,r):\n",
    "    if r-l < 2: #长度小于等于2时是特殊情况，长度是2的时候直接交换就行\n",
    "        if seq[r] < seq[l]: seq[l],seq[r] = seq[r],seq[l]\n",
    "        return seq\n",
    "    #找主元，采用的是去开头结尾和中间的中位数\n",
    "    mid = l + (r-l)//2\n",
    "    seq[l],seq[mid],seq[r] = sorted([seq[l],seq[r],seq[mid]]) #将l,r和mid三者顺序调好，主元就是mid上的数\n",
    "    seq[r-1],seq[mid] = seq[mid],seq[r-1] #将mid和r-1对调，这样就只需要考虑l+1到r-2的部分\n",
    "    i,j,pivot = l+1,r-2,seq[r-1] #pivot就是当前的主元\n",
    "    while True:\n",
    "        while seq[i] <= pivot and i < r-1: i += 1 #必须仅有一侧包含=且限制i的范围\n",
    "        while seq[j] > pivot: j -= 1\n",
    "        if i < j: seq[i],seq[j] = seq[j],seq[i]\n",
    "        else: break\n",
    "    seq[i],seq[r-1] = seq[r-1],seq[i] #此时i就是主元应该在的位置，二者交换\n",
    "    qsort(seq,l=l,r=i-1) #分而治之的继续进行划分\n",
    "    qsort(seq,l=i+1,r=r)\n",
    "    return seq\n",
    "\n",
    "# 堆排序\n",
    "#最大堆，堆排序\n",
    "def heap_sort(seq):\n",
    "    n = len(seq)\n",
    "    heap = make_heap(seq)\n",
    "    result = []\n",
    "    for i in range(n):\n",
    "        output,heap = heappop(heap)\n",
    "        result.append(output)\n",
    "    return result\n",
    "#最大堆的建立\n",
    "def make_heap(seq):\n",
    "    n = len(seq)\n",
    "    first = n//2 - 1 #第一个父节点的索引，从这个父亲开始，依次检查所有的父亲是否符合堆的要求\n",
    "    for parent in range(first,-1,-1):\n",
    "        seq = check(seq,parent)\n",
    "    return seq\n",
    "#最大堆pop操作，即输出最大值    \n",
    "def heappop(seq):\n",
    "    if not seq: return \n",
    "    if len(seq) == 1: return seq[0],[]\n",
    "    output = seq[0]\n",
    "    seq[0] = seq.pop() #拿掉最大的值，之后把尾部的值放上去，然后check是否合理\n",
    "    seq = check(seq,0)\n",
    "    return output,seq\n",
    "#最大堆过滤操作\n",
    "def check(seq,parent):\n",
    "    n = len(seq)\n",
    "    while 2*(parent+1)-1 < n:\n",
    "        child = 2*(parent+1)-1\n",
    "        if child < n-1 and seq[child] > seq[child+1]:\n",
    "            child += 1\n",
    "        if seq[parent] > seq[child]:\n",
    "            seq[parent],seq[child] = seq[child],seq[parent]\n",
    "            parent = child\n",
    "        else: break\n",
    "    return seq"
   ]
  },
  {
   "cell_type": "code",
   "execution_count": 20,
   "metadata": {},
   "outputs": [
    {
     "data": {
      "text/plain": [
       "[1, 2, 3]"
      ]
     },
     "execution_count": 20,
     "metadata": {},
     "output_type": "execute_result"
    }
   ],
   "source": [
    "f = Shell_sort\n",
    "a = [1,2,3]\n",
    "f(a)"
   ]
  },
  {
   "cell_type": "code",
   "execution_count": 21,
   "metadata": {},
   "outputs": [
    {
     "name": "stdout",
     "output_type": "stream",
     "text": [
      "True\n"
     ]
    }
   ],
   "source": [
    "d0 = [2, 15, 5, 9, 7, 6, 4, 12, 5, 4, 2, 64, 5, 6, 4, 2, 3, 54, 45, 4, 44]\n",
    "d0_out = [2, 2, 2, 3, 4, 4, 4, 4, 5, 5, 5, 6, 6, 7, 9, 12, 15, 44, 45, 54, 64]  # 正确排序\n",
    "d1 = f(d0)\n",
    "print(d1==d0_out)"
   ]
  },
  {
   "cell_type": "code",
   "execution_count": 22,
   "metadata": {},
   "outputs": [
    {
     "data": {
      "text/plain": [
       "[2, 2, 2, 3, 4, 4, 4, 4, 5, 5, 5, 6, 6, 7, 9, 12, 15, 44, 45, 54, 64]"
      ]
     },
     "execution_count": 22,
     "metadata": {},
     "output_type": "execute_result"
    }
   ],
   "source": [
    "d1"
   ]
  },
  {
   "cell_type": "code",
   "execution_count": 23,
   "metadata": {},
   "outputs": [
    {
     "name": "stdout",
     "output_type": "stream",
     "text": [
      "<function Shell_sort at 0x000001AAB2356B88>Running time: 0.3806319236755371 Seconds [True, True, True, True, True, True, True, True, True, True, True, True, True, True, True, True, True, True, True, True, True, True, True, True, True, True, True, True, True, True, True, True, True, True, True, True, True, True, True, True, True, True, True, True, True, True, True, True, True, True, True, True, True, True, True, True, True, True, True, True, True, True, True, True, True, True, True, True, True, True, True, True, True, True, True, True, True, True, True, True, True, True, True, True, True, True, True, True, True, True, True, True, True, True, True, True, True, True, True, True]\n",
      "<function merge_sort at 0x000001AAB0E50C18>Running time: 0.4485301971435547 Seconds [True, True, True, True, True, True, True, True, True, True, True, True, True, True, True, True, True, True, True, True, True, True, True, True, True, True, True, True, True, True, True, True, True, True, True, True, True, True, True, True, True, True, True, True, True, True, True, True, True, True, True, True, True, True, True, True, True, True, True, True, True, True, True, True, True, True, True, True, True, True, True, True, True, True, True, True, True, True, True, True, True, True, True, True, True, True, True, True, True, True, True, True, True, True, True, True, True, True, True, True]\n",
      "<function quick_sort at 0x000001AAB0E50EE8>Running time: 0.2577059268951416 Seconds [True, True, True, True, True, True, True, True, True, True, True, True, True, True, True, True, True, True, True, True, True, True, True, True, True, True, True, True, True, True, True, True, True, True, True, True, True, True, True, True, True, True, True, True, True, True, True, True, True, True, True, True, True, True, True, True, True, True, True, True, True, True, True, True, True, True, True, True, True, True, True, True, True, True, True, True, True, True, True, True, True, True, True, True, True, True, True, True, True, True, True, True, True, True, True, True, True, True, True, True]\n",
      "<function heap_sort at 0x000001AAB0EC0168>Running time: 0.5973312854766846 Seconds [True, True, True, True, True, True, True, True, True, True, True, True, True, True, True, True, True, True, True, True, True, True, True, True, True, True, True, True, True, True, True, True, True, True, True, True, True, True, True, True, True, True, True, True, True, True, True, True, True, True, True, True, True, True, True, True, True, True, True, True, True, True, True, True, True, True, True, True, True, True, True, True, True, True, True, True, True, True, True, True, True, True, True, True, True, True, True, True, True, True, True, True, True, True, True, True, True, True, True, True]\n"
     ]
    }
   ],
   "source": [
    "funcs = [bubble_sort,select_sort,insert_sort,Shell_sort,merge_sort,quick_sort,heap_sort]\n",
    "\n",
    "for K in range(3,7):\n",
    "    all_time = 0\n",
    "    result = []\n",
    "    for p in range(100):\n",
    "        seq = [i for i in range(1,1001)]\n",
    "        random.shuffle(seq)\n",
    "        f = funcs[K]\n",
    "        start = time.time()\n",
    "        seq = f(seq)     \n",
    "        end = time.time()\n",
    "        all_time += (end - start)\n",
    "        result.append(seq==[i for i in range(1,1001)])\n",
    "    print(f'{f}Running time: %s Seconds {result}'%(all_time))"
   ]
  },
  {
   "cell_type": "code",
   "execution_count": 19,
   "metadata": {},
   "outputs": [],
   "source": [
    "import numpy as np\n",
    "def Shell_sort(seq):\n",
    "    n = len(seq)\n",
    "    k = int(np.sqrt(n)) - 1\n",
    "    step = 2**k-1\n",
    "    while step > 0:\n",
    "        for i in range(step,n):\n",
    "            #插入排序\n",
    "            value = seq[i]\n",
    "            while i >= step and seq[i-step] > value:\n",
    "                seq[i] = seq[i-step]\n",
    "                i -= step\n",
    "            seq[i] = value\n",
    "        k -= 1\n",
    "        step = 2**k-1\n",
    "    return seq\n",
    "    "
   ]
  },
  {
   "cell_type": "code",
   "execution_count": 2,
   "metadata": {},
   "outputs": [
    {
     "data": {
      "text/plain": [
       "[10, 1, 1, 1, 1, 1, 1, 1, 1, 1]"
      ]
     },
     "execution_count": 2,
     "metadata": {},
     "output_type": "execute_result"
    }
   ],
   "source": [
    "a = [1]*10\n",
    "a[0] = 10\n",
    "a"
   ]
  },
  {
   "cell_type": "code",
   "execution_count": 5,
   "metadata": {},
   "outputs": [],
   "source": [
    "a = [[1]*5]*3\n",
    "a[0][0] = 2"
   ]
  },
  {
   "cell_type": "code",
   "execution_count": 6,
   "metadata": {},
   "outputs": [
    {
     "data": {
      "text/plain": [
       "[[2, 1, 1, 1, 1], [2, 1, 1, 1, 1], [2, 1, 1, 1, 1]]"
      ]
     },
     "execution_count": 6,
     "metadata": {},
     "output_type": "execute_result"
    }
   ],
   "source": [
    "a"
   ]
  },
  {
   "cell_type": "code",
   "execution_count": null,
   "metadata": {},
   "outputs": [],
   "source": []
  }
 ],
 "metadata": {
  "kernelspec": {
   "display_name": "Python 3",
   "language": "python",
   "name": "python3"
  },
  "language_info": {
   "codemirror_mode": {
    "name": "ipython",
    "version": 3
   },
   "file_extension": ".py",
   "mimetype": "text/x-python",
   "name": "python",
   "nbconvert_exporter": "python",
   "pygments_lexer": "ipython3",
   "version": "3.7.7"
  }
 },
 "nbformat": 4,
 "nbformat_minor": 4
}
