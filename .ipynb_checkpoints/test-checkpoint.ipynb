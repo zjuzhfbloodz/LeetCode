{
 "cells": [
  {
   "cell_type": "code",
   "execution_count": 28,
   "metadata": {},
   "outputs": [],
   "source": [
    "class Solution:\n",
    "    def findNumberOfLIS(self, nums):\n",
    "        #我的思路是找到以nums[i]结尾的最长递增子序列\n",
    "        n,maxdp,output = len(nums),0,0\n",
    "        if n == 0 or n == 1: return n\n",
    "        dp = [(1,1)] * n\n",
    "        for i in range(1,n):\n",
    "            maxlen,count = 0,0\n",
    "            for j in range(i):\n",
    "                if nums[j] < nums[i]:\n",
    "                    if  maxlen < dp[j][0]:\n",
    "                        maxlen = dp[j][0]\n",
    "                        count = dp[j][1]\n",
    "                    elif maxlen == dp[j][0]: count += dp[j][1]\n",
    "            maxdp = max(maxdp,maxlen + 1)\n",
    "            dp[i] = (maxlen + 1,count)\n",
    "        for p in dp:\n",
    "            if p[0] == maxdp:\n",
    "                output += p[1]\n",
    "\n",
    "        return output"
   ]
  },
  {
   "cell_type": "code",
   "execution_count": 29,
   "metadata": {},
   "outputs": [],
   "source": [
    "s = Solution().findNumberOfLIS([1,2,4,3,5,4,7,2])"
   ]
  },
  {
   "cell_type": "code",
   "execution_count": 30,
   "metadata": {},
   "outputs": [
    {
     "data": {
      "text/plain": [
       "3"
      ]
     },
     "execution_count": 30,
     "metadata": {},
     "output_type": "execute_result"
    }
   ],
   "source": [
    "s"
   ]
  },
  {
   "cell_type": "code",
   "execution_count": null,
   "metadata": {},
   "outputs": [],
   "source": []
  }
 ],
 "metadata": {
  "file_extension": ".py",
  "kernelspec": {
   "display_name": "Python 3",
   "language": "python",
   "name": "python3"
  },
  "language_info": {
   "codemirror_mode": {
    "name": "ipython",
    "version": 3
   },
   "file_extension": ".py",
   "mimetype": "text/x-python",
   "name": "python",
   "nbconvert_exporter": "python",
   "pygments_lexer": "ipython3",
   "version": "3.7.7"
  },
  "mimetype": "text/x-python",
  "name": "python",
  "npconvert_exporter": "python",
  "pygments_lexer": "ipython3",
  "version": 3
 },
 "nbformat": 4,
 "nbformat_minor": 2
}
