{
 "cells": [
  {
   "cell_type": "code",
   "execution_count": 28,
   "metadata": {},
   "outputs": [],
   "source": [
    "class Solution:\n",
    "    def findNumberOfLIS(self, nums):\n",
    "        #我的思路是找到以nums[i]结尾的最长递增子序列\n",
    "        n,maxdp,output = len(nums),0,0\n",
    "        if n == 0 or n == 1: return n\n",
    "        dp = [(1,1)] * n\n",
    "        for i in range(1,n):\n",
    "            maxlen,count = 0,0\n",
    "            for j in range(i):\n",
    "                if nums[j] < nums[i]:\n",
    "                    if  maxlen < dp[j][0]:\n",
    "                        maxlen = dp[j][0]\n",
    "                        count = dp[j][1]\n",
    "                    elif maxlen == dp[j][0]: count += dp[j][1]\n",
    "            maxdp = max(maxdp,maxlen + 1)\n",
    "            dp[i] = (maxlen + 1,count)\n",
    "        for p in dp:\n",
    "            if p[0] == maxdp:\n",
    "                output += p[1]\n",
    "\n",
    "        return output"
   ]
  },
  {
   "cell_type": "code",
   "execution_count": 29,
   "metadata": {},
   "outputs": [],
   "source": [
    "s = Solution().findNumberOfLIS([1,2,4,3,5,4,7,2])"
   ]
  },
  {
   "cell_type": "code",
   "execution_count": 1,
   "metadata": {},
   "outputs": [],
   "source": [
    "s = 'i am love'"
   ]
  },
  {
   "cell_type": "code",
   "execution_count": 4,
   "metadata": {},
   "outputs": [
    {
     "data": {
      "text/plain": [
       "'i%20am%20love'"
      ]
     },
     "execution_count": 4,
     "metadata": {},
     "output_type": "execute_result"
    }
   ],
   "source": [
    "''.join([i if i!=' ' else '%20' for i in s])"
   ]
  },
  {
   "cell_type": "code",
   "execution_count": 5,
   "metadata": {},
   "outputs": [
    {
     "data": {
      "text/plain": [
       "[3, 2, 1]"
      ]
     },
     "execution_count": 5,
     "metadata": {},
     "output_type": "execute_result"
    }
   ],
   "source": [
    "a = [1,2,3]\n",
    "a[::-1]"
   ]
  },
  {
   "cell_type": "code",
   "execution_count": 7,
   "metadata": {},
   "outputs": [
    {
     "data": {
      "text/plain": [
       "2"
      ]
     },
     "execution_count": 7,
     "metadata": {},
     "output_type": "execute_result"
    }
   ],
   "source": [
    "a.index(3)"
   ]
  },
  {
   "cell_type": "code",
   "execution_count": 2,
   "metadata": {},
   "outputs": [
    {
     "data": {
      "text/plain": [
       "True"
      ]
     },
     "execution_count": 2,
     "metadata": {},
     "output_type": "execute_result"
    }
   ],
   "source": [
    "None == None"
   ]
  },
  {
   "cell_type": "code",
   "execution_count": 38,
   "metadata": {
    "ExecuteTime": {
     "end_time": "2022-05-29T10:38:14.787604Z",
     "start_time": "2022-05-29T10:38:14.771629Z"
    }
   },
   "outputs": [],
   "source": [
    "def get_rank(X):\n",
    "    if len(X) == 0:\n",
    "        return list()\n",
    "    X = sorted(X, reverse=False)\n",
    "    rank = 1\n",
    "    max_x = X[0]\n",
    "    dict_rank = {X[0]:[1]}\n",
    "    for i in range(1,len(X)):\n",
    "        rank += 1\n",
    "        if X[i] == max_x:\n",
    "            dict_rank[max_x].append(rank)\n",
    "        else:\n",
    "            max_x = X[i]\n",
    "            dict_rank[max_x] = [rank]\n",
    "    print(dict_rank)\n",
    "    lst_rank = [sum(dict_rank[i])/len(dict_rank[i]) for i in X]\n",
    "    \n",
    "    return lst_rank\n",
    "    \n",
    "\n",
    "def calculate_spearman_rank(X,Y):\n",
    "    N = len(X)\n",
    "    rank_X = get_rank(X)\n",
    "    rank_Y = get_rank(Y)\n",
    "    p = 0\n",
    "    for i in range(N):\n",
    "        p += (rank_X[i] - rank_Y[i])**2\n",
    "    p = 1 - p * 6 / (N*(N**2-1))\n",
    "    return round(p,2)\n",
    "    "
   ]
  },
  {
   "cell_type": "code",
   "execution_count": 39,
   "metadata": {
    "ExecuteTime": {
     "end_time": "2022-05-29T10:38:15.631802Z",
     "start_time": "2022-05-29T10:38:15.627389Z"
    }
   },
   "outputs": [],
   "source": [
    "X = [10,20,30,40,50]\n",
    "Y = [2,4,6,8,10]"
   ]
  },
  {
   "cell_type": "code",
   "execution_count": 40,
   "metadata": {
    "ExecuteTime": {
     "end_time": "2022-05-29T10:38:16.472060Z",
     "start_time": "2022-05-29T10:38:16.464800Z"
    }
   },
   "outputs": [
    {
     "name": "stdout",
     "output_type": "stream",
     "text": [
      "{10: [1], 20: [2], 30: [3], 40: [4], 50: [5]}\n",
      "{2: [1], 4: [2], 6: [3], 8: [4], 10: [5]}\n"
     ]
    },
    {
     "data": {
      "text/plain": [
       "1.0"
      ]
     },
     "execution_count": 40,
     "metadata": {},
     "output_type": "execute_result"
    }
   ],
   "source": [
    "calculate_spearman_rank(X,Y)"
   ]
  },
  {
   "cell_type": "code",
   "execution_count": 17,
   "metadata": {
    "ExecuteTime": {
     "end_time": "2022-05-29T10:32:12.580760Z",
     "start_time": "2022-05-29T10:32:12.572243Z"
    }
   },
   "outputs": [
    {
     "data": {
      "text/plain": [
       "[5, 2, 1]"
      ]
     },
     "execution_count": 17,
     "metadata": {},
     "output_type": "execute_result"
    }
   ],
   "source": [
    "sorted(a,reverse=True)"
   ]
  },
  {
   "cell_type": "code",
   "execution_count": 37,
   "metadata": {
    "ExecuteTime": {
     "end_time": "2022-05-29T10:35:24.597574Z",
     "start_time": "2022-05-29T10:35:24.588591Z"
    }
   },
   "outputs": [
    {
     "data": {
      "text/plain": [
       "1.11"
      ]
     },
     "execution_count": 37,
     "metadata": {},
     "output_type": "execute_result"
    }
   ],
   "source": [
    "round(1.113232,2)"
   ]
  },
  {
   "cell_type": "code",
   "execution_count": null,
   "metadata": {},
   "outputs": [],
   "source": []
  }
 ],
 "metadata": {
  "file_extension": ".py",
  "kernelspec": {
   "display_name": "Python 3 (ipykernel)",
   "language": "python",
   "name": "python3"
  },
  "language_info": {
   "codemirror_mode": {
    "name": "ipython",
    "version": 3
   },
   "file_extension": ".py",
   "mimetype": "text/x-python",
   "name": "python",
   "nbconvert_exporter": "python",
   "pygments_lexer": "ipython3",
   "version": "3.9.12"
  },
  "mimetype": "text/x-python",
  "name": "python",
  "npconvert_exporter": "python",
  "pygments_lexer": "ipython3",
  "toc": {
   "base_numbering": 1,
   "nav_menu": {},
   "number_sections": true,
   "sideBar": true,
   "skip_h1_title": false,
   "title_cell": "Table of Contents",
   "title_sidebar": "Contents",
   "toc_cell": false,
   "toc_position": {},
   "toc_section_display": true,
   "toc_window_display": false
  },
  "varInspector": {
   "cols": {
    "lenName": 16,
    "lenType": 16,
    "lenVar": 40
   },
   "kernels_config": {
    "python": {
     "delete_cmd_postfix": "",
     "delete_cmd_prefix": "del ",
     "library": "var_list.py",
     "varRefreshCmd": "print(var_dic_list())"
    },
    "r": {
     "delete_cmd_postfix": ") ",
     "delete_cmd_prefix": "rm(",
     "library": "var_list.r",
     "varRefreshCmd": "cat(var_dic_list()) "
    }
   },
   "types_to_exclude": [
    "module",
    "function",
    "builtin_function_or_method",
    "instance",
    "_Feature"
   ],
   "window_display": false
  },
  "version": 3
 },
 "nbformat": 4,
 "nbformat_minor": 2
}
