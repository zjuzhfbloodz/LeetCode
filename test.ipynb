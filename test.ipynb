{
 "cells": [
  {
   "cell_type": "code",
   "execution_count": 28,
   "metadata": {},
   "outputs": [],
   "source": [
    "class Solution:\n",
    "    def findNumberOfLIS(self, nums):\n",
    "        #我的思路是找到以nums[i]结尾的最长递增子序列\n",
    "        n,maxdp,output = len(nums),0,0\n",
    "        if n == 0 or n == 1: return n\n",
    "        dp = [(1,1)] * n\n",
    "        for i in range(1,n):\n",
    "            maxlen,count = 0,0\n",
    "            for j in range(i):\n",
    "                if nums[j] < nums[i]:\n",
    "                    if  maxlen < dp[j][0]:\n",
    "                        maxlen = dp[j][0]\n",
    "                        count = dp[j][1]\n",
    "                    elif maxlen == dp[j][0]: count += dp[j][1]\n",
    "            maxdp = max(maxdp,maxlen + 1)\n",
    "            dp[i] = (maxlen + 1,count)\n",
    "        for p in dp:\n",
    "            if p[0] == maxdp:\n",
    "                output += p[1]\n",
    "\n",
    "        return output"
   ]
  },
  {
   "cell_type": "code",
   "execution_count": 29,
   "metadata": {},
   "outputs": [],
   "source": [
    "s = Solution().findNumberOfLIS([1,2,4,3,5,4,7,2])"
   ]
  },
  {
   "cell_type": "code",
   "execution_count": 1,
   "metadata": {},
   "outputs": [],
   "source": [
    "s = 'i am love'"
   ]
  },
  {
   "cell_type": "code",
   "execution_count": 4,
   "metadata": {},
   "outputs": [
    {
     "data": {
      "text/plain": [
       "'i%20am%20love'"
      ]
     },
     "execution_count": 4,
     "metadata": {},
     "output_type": "execute_result"
    }
   ],
   "source": [
    "''.join([i if i!=' ' else '%20' for i in s])"
   ]
  },
  {
   "cell_type": "code",
   "execution_count": 5,
   "metadata": {},
   "outputs": [
    {
     "data": {
      "text/plain": [
       "[3, 2, 1]"
      ]
     },
     "execution_count": 5,
     "metadata": {},
     "output_type": "execute_result"
    }
   ],
   "source": [
    "a = [1,2,3]\n",
    "a[::-1]"
   ]
  },
  {
   "cell_type": "code",
   "execution_count": 7,
   "metadata": {},
   "outputs": [
    {
     "data": {
      "text/plain": [
       "2"
      ]
     },
     "execution_count": 7,
     "metadata": {},
     "output_type": "execute_result"
    }
   ],
   "source": [
    "a.index(3)"
   ]
  },
  {
   "cell_type": "code",
   "execution_count": 2,
   "metadata": {},
   "outputs": [
    {
     "data": {
      "text/plain": [
       "True"
      ]
     },
     "execution_count": 2,
     "metadata": {},
     "output_type": "execute_result"
    }
   ],
   "source": [
    "None == None"
   ]
  },
  {
   "cell_type": "code",
   "execution_count": 38,
   "metadata": {
    "ExecuteTime": {
     "end_time": "2022-05-29T10:38:14.787604Z",
     "start_time": "2022-05-29T10:38:14.771629Z"
    }
   },
   "outputs": [],
   "source": [
    "def get_rank(X):\n",
    "    if len(X) == 0:\n",
    "        return list()\n",
    "    X = sorted(X, reverse=False)\n",
    "    rank = 1\n",
    "    max_x = X[0]\n",
    "    dict_rank = {X[0]:[1]}\n",
    "    for i in range(1,len(X)):\n",
    "        rank += 1\n",
    "        if X[i] == max_x:\n",
    "            dict_rank[max_x].append(rank)\n",
    "        else:\n",
    "            max_x = X[i]\n",
    "            dict_rank[max_x] = [rank]\n",
    "    print(dict_rank)\n",
    "    lst_rank = [sum(dict_rank[i])/len(dict_rank[i]) for i in X]\n",
    "    \n",
    "    return lst_rank\n",
    "    \n",
    "\n",
    "def calculate_spearman_rank(X,Y):\n",
    "    N = len(X)\n",
    "    rank_X = get_rank(X)\n",
    "    rank_Y = get_rank(Y)\n",
    "    p = 0\n",
    "    for i in range(N):\n",
    "        p += (rank_X[i] - rank_Y[i])**2\n",
    "    p = 1 - p * 6 / (N*(N**2-1))\n",
    "    return round(p,2)\n",
    "    "
   ]
  },
  {
   "cell_type": "code",
   "execution_count": 39,
   "metadata": {
    "ExecuteTime": {
     "end_time": "2022-05-29T10:38:15.631802Z",
     "start_time": "2022-05-29T10:38:15.627389Z"
    }
   },
   "outputs": [],
   "source": [
    "X = [10,20,30,40,50]\n",
    "Y = [2,4,6,8,10]"
   ]
  },
  {
   "cell_type": "code",
   "execution_count": 40,
   "metadata": {
    "ExecuteTime": {
     "end_time": "2022-05-29T10:38:16.472060Z",
     "start_time": "2022-05-29T10:38:16.464800Z"
    }
   },
   "outputs": [
    {
     "name": "stdout",
     "output_type": "stream",
     "text": [
      "{10: [1], 20: [2], 30: [3], 40: [4], 50: [5]}\n",
      "{2: [1], 4: [2], 6: [3], 8: [4], 10: [5]}\n"
     ]
    },
    {
     "data": {
      "text/plain": [
       "1.0"
      ]
     },
     "execution_count": 40,
     "metadata": {},
     "output_type": "execute_result"
    }
   ],
   "source": [
    "calculate_spearman_rank(X,Y)"
   ]
  },
  {
   "cell_type": "code",
   "execution_count": 17,
   "metadata": {
    "ExecuteTime": {
     "end_time": "2022-05-29T10:32:12.580760Z",
     "start_time": "2022-05-29T10:32:12.572243Z"
    }
   },
   "outputs": [
    {
     "data": {
      "text/plain": [
       "[5, 2, 1]"
      ]
     },
     "execution_count": 17,
     "metadata": {},
     "output_type": "execute_result"
    }
   ],
   "source": [
    "sorted(a, reverse=True)"
   ]
  },
  {
   "cell_type": "code",
   "execution_count": 37,
   "metadata": {
    "ExecuteTime": {
     "end_time": "2022-05-29T10:35:24.597574Z",
     "start_time": "2022-05-29T10:35:24.588591Z"
    }
   },
   "outputs": [
    {
     "data": {
      "text/plain": [
       "1.11"
      ]
     },
     "execution_count": 37,
     "metadata": {},
     "output_type": "execute_result"
    }
   ],
   "source": [
    "round(1.113232,2)"
   ]
  },
  {
   "cell_type": "code",
   "execution_count": 1,
   "metadata": {
    "ExecuteTime": {
     "end_time": "2022-06-02T11:16:57.178433Z",
     "start_time": "2022-06-02T11:16:57.053921Z"
    }
   },
   "outputs": [],
   "source": [
    "from ssl import create_default_context\n",
    "from elasticsearch import Elasticsearch\n",
    "from typing import Optional, Dict, Any\n",
    "from elastic_transport import NodeConfig"
   ]
  },
  {
   "cell_type": "code",
   "execution_count": 3,
   "metadata": {
    "ExecuteTime": {
     "end_time": "2022-06-02T11:17:31.881452Z",
     "start_time": "2022-06-02T11:17:31.253398Z"
    }
   },
   "outputs": [
    {
     "ename": "ValueError",
     "evalue": "TLS options require scheme to be 'https'",
     "output_type": "error",
     "traceback": [
      "\u001b[0;31m---------------------------------------------------------------------------\u001b[0m",
      "\u001b[0;31mValueError\u001b[0m                                Traceback (most recent call last)",
      "Input \u001b[0;32mIn [3]\u001b[0m, in \u001b[0;36m<cell line: 4>\u001b[0;34m()\u001b[0m\n\u001b[1;32m      2\u001b[0m context \u001b[38;5;241m=\u001b[39m create_default_context()\n\u001b[1;32m      3\u001b[0m context\u001b[38;5;241m.\u001b[39mcheck_hostname \u001b[38;5;241m=\u001b[39m \u001b[38;5;28;01mFalse\u001b[39;00m\n\u001b[0;32m----> 4\u001b[0m es\u001b[38;5;241m=\u001b[39m \u001b[43mElasticsearch\u001b[49m\u001b[43m(\u001b[49m\u001b[43m[\u001b[49m\u001b[38;5;124;43m'\u001b[39;49m\u001b[38;5;124;43mhttp://localhost:9200\u001b[39;49m\u001b[38;5;124;43m'\u001b[39;49m\u001b[43m]\u001b[49m\u001b[43m,\u001b[49m\n\u001b[1;32m      5\u001b[0m \u001b[43m                  \u001b[49m\u001b[43mssl_context\u001b[49m\u001b[38;5;241;43m=\u001b[39;49m\u001b[43mcontext\u001b[49m\n\u001b[1;32m      6\u001b[0m \u001b[43m                 \u001b[49m\u001b[43m)\u001b[49m\n",
      "File \u001b[0;32m~/Documents/app/anaconda3/envs/elk39/lib/python3.9/site-packages/elasticsearch/_sync/client/__init__.py:331\u001b[0m, in \u001b[0;36mElasticsearch.__init__\u001b[0;34m(self, hosts, cloud_id, api_key, basic_auth, bearer_auth, opaque_id, headers, connections_per_node, http_compress, verify_certs, ca_certs, client_cert, client_key, ssl_assert_hostname, ssl_assert_fingerprint, ssl_version, ssl_context, ssl_show_warn, transport_class, request_timeout, node_class, node_pool_class, randomize_nodes_in_pool, node_selector_class, dead_node_backoff_factor, max_dead_node_backoff, serializer, serializers, default_mimetype, max_retries, retry_on_status, retry_on_timeout, sniff_on_start, sniff_before_requests, sniff_on_node_failure, sniff_timeout, min_delay_between_sniffing, sniffed_node_callback, meta_header, timeout, randomize_hosts, host_info_callback, sniffer_timeout, sniff_on_connection_fail, http_auth, maxsize, _transport)\u001b[0m\n\u001b[1;32m    328\u001b[0m         requests_session_auth \u001b[38;5;241m=\u001b[39m http_auth\n\u001b[1;32m    329\u001b[0m         http_auth \u001b[38;5;241m=\u001b[39m DEFAULT\n\u001b[0;32m--> 331\u001b[0m node_configs \u001b[38;5;241m=\u001b[39m \u001b[43mclient_node_configs\u001b[49m\u001b[43m(\u001b[49m\n\u001b[1;32m    332\u001b[0m \u001b[43m    \u001b[49m\u001b[43mhosts\u001b[49m\u001b[43m,\u001b[49m\n\u001b[1;32m    333\u001b[0m \u001b[43m    \u001b[49m\u001b[43mcloud_id\u001b[49m\u001b[38;5;241;43m=\u001b[39;49m\u001b[43mcloud_id\u001b[49m\u001b[43m,\u001b[49m\n\u001b[1;32m    334\u001b[0m \u001b[43m    \u001b[49m\u001b[43mrequests_session_auth\u001b[49m\u001b[38;5;241;43m=\u001b[39;49m\u001b[43mrequests_session_auth\u001b[49m\u001b[43m,\u001b[49m\n\u001b[1;32m    335\u001b[0m \u001b[43m    \u001b[49m\u001b[43mconnections_per_node\u001b[49m\u001b[38;5;241;43m=\u001b[39;49m\u001b[43mconnections_per_node\u001b[49m\u001b[43m,\u001b[49m\n\u001b[1;32m    336\u001b[0m \u001b[43m    \u001b[49m\u001b[43mhttp_compress\u001b[49m\u001b[38;5;241;43m=\u001b[39;49m\u001b[43mhttp_compress\u001b[49m\u001b[43m,\u001b[49m\n\u001b[1;32m    337\u001b[0m \u001b[43m    \u001b[49m\u001b[43mverify_certs\u001b[49m\u001b[38;5;241;43m=\u001b[39;49m\u001b[43mverify_certs\u001b[49m\u001b[43m,\u001b[49m\n\u001b[1;32m    338\u001b[0m \u001b[43m    \u001b[49m\u001b[43mca_certs\u001b[49m\u001b[38;5;241;43m=\u001b[39;49m\u001b[43mca_certs\u001b[49m\u001b[43m,\u001b[49m\n\u001b[1;32m    339\u001b[0m \u001b[43m    \u001b[49m\u001b[43mclient_cert\u001b[49m\u001b[38;5;241;43m=\u001b[39;49m\u001b[43mclient_cert\u001b[49m\u001b[43m,\u001b[49m\n\u001b[1;32m    340\u001b[0m \u001b[43m    \u001b[49m\u001b[43mclient_key\u001b[49m\u001b[38;5;241;43m=\u001b[39;49m\u001b[43mclient_key\u001b[49m\u001b[43m,\u001b[49m\n\u001b[1;32m    341\u001b[0m \u001b[43m    \u001b[49m\u001b[43mssl_assert_hostname\u001b[49m\u001b[38;5;241;43m=\u001b[39;49m\u001b[43mssl_assert_hostname\u001b[49m\u001b[43m,\u001b[49m\n\u001b[1;32m    342\u001b[0m \u001b[43m    \u001b[49m\u001b[43mssl_assert_fingerprint\u001b[49m\u001b[38;5;241;43m=\u001b[39;49m\u001b[43mssl_assert_fingerprint\u001b[49m\u001b[43m,\u001b[49m\n\u001b[1;32m    343\u001b[0m \u001b[43m    \u001b[49m\u001b[43mssl_version\u001b[49m\u001b[38;5;241;43m=\u001b[39;49m\u001b[43mssl_version\u001b[49m\u001b[43m,\u001b[49m\n\u001b[1;32m    344\u001b[0m \u001b[43m    \u001b[49m\u001b[43mssl_context\u001b[49m\u001b[38;5;241;43m=\u001b[39;49m\u001b[43mssl_context\u001b[49m\u001b[43m,\u001b[49m\n\u001b[1;32m    345\u001b[0m \u001b[43m    \u001b[49m\u001b[43mssl_show_warn\u001b[49m\u001b[38;5;241;43m=\u001b[39;49m\u001b[43mssl_show_warn\u001b[49m\u001b[43m,\u001b[49m\n\u001b[1;32m    346\u001b[0m \u001b[43m\u001b[49m\u001b[43m)\u001b[49m\n\u001b[1;32m    347\u001b[0m transport_kwargs: t\u001b[38;5;241m.\u001b[39mDict[\u001b[38;5;28mstr\u001b[39m, t\u001b[38;5;241m.\u001b[39mAny] \u001b[38;5;241m=\u001b[39m {}\n\u001b[1;32m    348\u001b[0m \u001b[38;5;28;01mif\u001b[39;00m node_class \u001b[38;5;129;01mis\u001b[39;00m \u001b[38;5;129;01mnot\u001b[39;00m DEFAULT:\n",
      "File \u001b[0;32m~/Documents/app/anaconda3/envs/elk39/lib/python3.9/site-packages/elasticsearch/_sync/client/utils.py:135\u001b[0m, in \u001b[0;36mclient_node_configs\u001b[0;34m(hosts, cloud_id, requests_session_auth, **kwargs)\u001b[0m\n\u001b[1;32m    132\u001b[0m     node_options[\u001b[38;5;124m\"\u001b[39m\u001b[38;5;124mheaders\u001b[39m\u001b[38;5;124m\"\u001b[39m] \u001b[38;5;241m=\u001b[39m headers\n\u001b[1;32m    133\u001b[0m     \u001b[38;5;28;01mreturn\u001b[39;00m node_config\u001b[38;5;241m.\u001b[39mreplace(\u001b[38;5;241m*\u001b[39m\u001b[38;5;241m*\u001b[39mnode_options)\n\u001b[0;32m--> 135\u001b[0m \u001b[38;5;28;01mreturn\u001b[39;00m [apply_node_options(node_config) \u001b[38;5;28;01mfor\u001b[39;00m node_config \u001b[38;5;129;01min\u001b[39;00m node_configs]\n",
      "File \u001b[0;32m~/Documents/app/anaconda3/envs/elk39/lib/python3.9/site-packages/elasticsearch/_sync/client/utils.py:135\u001b[0m, in \u001b[0;36m<listcomp>\u001b[0;34m(.0)\u001b[0m\n\u001b[1;32m    132\u001b[0m     node_options[\u001b[38;5;124m\"\u001b[39m\u001b[38;5;124mheaders\u001b[39m\u001b[38;5;124m\"\u001b[39m] \u001b[38;5;241m=\u001b[39m headers\n\u001b[1;32m    133\u001b[0m     \u001b[38;5;28;01mreturn\u001b[39;00m node_config\u001b[38;5;241m.\u001b[39mreplace(\u001b[38;5;241m*\u001b[39m\u001b[38;5;241m*\u001b[39mnode_options)\n\u001b[0;32m--> 135\u001b[0m \u001b[38;5;28;01mreturn\u001b[39;00m [\u001b[43mapply_node_options\u001b[49m\u001b[43m(\u001b[49m\u001b[43mnode_config\u001b[49m\u001b[43m)\u001b[49m \u001b[38;5;28;01mfor\u001b[39;00m node_config \u001b[38;5;129;01min\u001b[39;00m node_configs]\n",
      "File \u001b[0;32m~/Documents/app/anaconda3/envs/elk39/lib/python3.9/site-packages/elasticsearch/_sync/client/utils.py:133\u001b[0m, in \u001b[0;36mclient_node_configs.<locals>.apply_node_options\u001b[0;34m(node_config)\u001b[0m\n\u001b[1;32m    131\u001b[0m headers\u001b[38;5;241m.\u001b[39mfreeze()\n\u001b[1;32m    132\u001b[0m node_options[\u001b[38;5;124m\"\u001b[39m\u001b[38;5;124mheaders\u001b[39m\u001b[38;5;124m\"\u001b[39m] \u001b[38;5;241m=\u001b[39m headers\n\u001b[0;32m--> 133\u001b[0m \u001b[38;5;28;01mreturn\u001b[39;00m \u001b[43mnode_config\u001b[49m\u001b[38;5;241;43m.\u001b[39;49m\u001b[43mreplace\u001b[49m\u001b[43m(\u001b[49m\u001b[38;5;241;43m*\u001b[39;49m\u001b[38;5;241;43m*\u001b[39;49m\u001b[43mnode_options\u001b[49m\u001b[43m)\u001b[49m\n",
      "File \u001b[0;32m~/Documents/app/anaconda3/envs/elk39/lib/python3.9/site-packages/elastic_transport/_models.py:295\u001b[0m, in \u001b[0;36mNodeConfig.replace\u001b[0;34m(self, **kwargs)\u001b[0m\n\u001b[1;32m    293\u001b[0m \u001b[38;5;28;01mif\u001b[39;00m \u001b[38;5;129;01mnot\u001b[39;00m kwargs:\n\u001b[1;32m    294\u001b[0m     \u001b[38;5;28;01mreturn\u001b[39;00m \u001b[38;5;28mself\u001b[39m\n\u001b[0;32m--> 295\u001b[0m \u001b[38;5;28;01mreturn\u001b[39;00m \u001b[43mdataclasses\u001b[49m\u001b[38;5;241;43m.\u001b[39;49m\u001b[43mreplace\u001b[49m\u001b[43m(\u001b[49m\u001b[38;5;28;43mself\u001b[39;49m\u001b[43m,\u001b[49m\u001b[43m \u001b[49m\u001b[38;5;241;43m*\u001b[39;49m\u001b[38;5;241;43m*\u001b[39;49m\u001b[43mkwargs\u001b[49m\u001b[43m)\u001b[49m\n",
      "File \u001b[0;32m~/Documents/app/anaconda3/envs/elk39/lib/python3.9/dataclasses.py:1284\u001b[0m, in \u001b[0;36mreplace\u001b[0;34m(obj, **changes)\u001b[0m\n\u001b[1;32m   1277\u001b[0m         changes[f\u001b[38;5;241m.\u001b[39mname] \u001b[38;5;241m=\u001b[39m \u001b[38;5;28mgetattr\u001b[39m(obj, f\u001b[38;5;241m.\u001b[39mname)\n\u001b[1;32m   1279\u001b[0m \u001b[38;5;66;03m# Create the new object, which calls __init__() and\u001b[39;00m\n\u001b[1;32m   1280\u001b[0m \u001b[38;5;66;03m# __post_init__() (if defined), using all of the init fields we've\u001b[39;00m\n\u001b[1;32m   1281\u001b[0m \u001b[38;5;66;03m# added and/or left in 'changes'.  If there are values supplied in\u001b[39;00m\n\u001b[1;32m   1282\u001b[0m \u001b[38;5;66;03m# changes that aren't fields, this will correctly raise a\u001b[39;00m\n\u001b[1;32m   1283\u001b[0m \u001b[38;5;66;03m# TypeError.\u001b[39;00m\n\u001b[0;32m-> 1284\u001b[0m \u001b[38;5;28;01mreturn\u001b[39;00m \u001b[43mobj\u001b[49m\u001b[38;5;241;43m.\u001b[39;49m\u001b[38;5;18;43m__class__\u001b[39;49m\u001b[43m(\u001b[49m\u001b[38;5;241;43m*\u001b[39;49m\u001b[38;5;241;43m*\u001b[39;49m\u001b[43mchanges\u001b[49m\u001b[43m)\u001b[49m\n",
      "File \u001b[0;32m<string>:21\u001b[0m, in \u001b[0;36m__init__\u001b[0;34m(self, scheme, host, port, path_prefix, headers, connections_per_node, request_timeout, http_compress, verify_certs, ca_certs, client_cert, client_key, ssl_assert_hostname, ssl_assert_fingerprint, ssl_version, ssl_context, ssl_show_warn, _extras)\u001b[0m\n",
      "File \u001b[0;32m~/Documents/app/anaconda3/envs/elk39/lib/python3.9/site-packages/elastic_transport/_models.py:326\u001b[0m, in \u001b[0;36mNodeConfig.__post_init__\u001b[0;34m(self)\u001b[0m\n\u001b[1;32m    324\u001b[0m \u001b[38;5;28;01mif\u001b[39;00m \u001b[38;5;28mself\u001b[39m\u001b[38;5;241m.\u001b[39mscheme \u001b[38;5;241m!=\u001b[39m \u001b[38;5;124m\"\u001b[39m\u001b[38;5;124mhttps\u001b[39m\u001b[38;5;124m\"\u001b[39m:\n\u001b[1;32m    325\u001b[0m     \u001b[38;5;28;01mif\u001b[39;00m \u001b[38;5;28many\u001b[39m(\u001b[38;5;28mgetattr\u001b[39m(\u001b[38;5;28mself\u001b[39m, attr) \u001b[38;5;129;01mis\u001b[39;00m \u001b[38;5;129;01mnot\u001b[39;00m \u001b[38;5;28;01mNone\u001b[39;00m \u001b[38;5;28;01mfor\u001b[39;00m attr \u001b[38;5;129;01min\u001b[39;00m tls_options):\n\u001b[0;32m--> 326\u001b[0m         \u001b[38;5;28;01mraise\u001b[39;00m \u001b[38;5;167;01mValueError\u001b[39;00m(\u001b[38;5;124m\"\u001b[39m\u001b[38;5;124mTLS options require scheme to be \u001b[39m\u001b[38;5;124m'\u001b[39m\u001b[38;5;124mhttps\u001b[39m\u001b[38;5;124m'\u001b[39m\u001b[38;5;124m\"\u001b[39m)\n\u001b[1;32m    328\u001b[0m \u001b[38;5;28;01melif\u001b[39;00m \u001b[38;5;28mself\u001b[39m\u001b[38;5;241m.\u001b[39mscheme \u001b[38;5;241m==\u001b[39m \u001b[38;5;124m\"\u001b[39m\u001b[38;5;124mhttps\u001b[39m\u001b[38;5;124m\"\u001b[39m:\n\u001b[1;32m    329\u001b[0m     \u001b[38;5;66;03m# It's not valid to set 'ssl_context' and any other\u001b[39;00m\n\u001b[1;32m    330\u001b[0m     \u001b[38;5;66;03m# TLS option, the SSLContext object must be configured\u001b[39;00m\n\u001b[1;32m    331\u001b[0m     \u001b[38;5;66;03m# the way the user wants already.\u001b[39;00m\n\u001b[1;32m    332\u001b[0m     \u001b[38;5;28;01mdef\u001b[39;00m \u001b[38;5;21mtls_option_filter\u001b[39m(attr: \u001b[38;5;28mobject\u001b[39m) \u001b[38;5;241m-\u001b[39m\u001b[38;5;241m>\u001b[39m \u001b[38;5;28mbool\u001b[39m:\n",
      "\u001b[0;31mValueError\u001b[0m: TLS options require scheme to be 'https'"
     ]
    }
   ],
   "source": [
    "# context = create_default_context(cafile=\"XXX.pem\")\n",
    "#context = create_default_context()\n",
    "#context.check_hostname = False\n",
    "es= Elasticsearch(['http://localhost:9200'],\n",
    "                  ssl_context=context\n",
    "                 )"
   ]
  },
  {
   "cell_type": "code",
   "execution_count": null,
   "metadata": {},
   "outputs": [],
   "source": []
  }
 ],
 "metadata": {
  "file_extension": ".py",
  "kernelspec": {
   "display_name": "Python 3 (ipykernel)",
   "language": "python",
   "name": "python3"
  },
  "language_info": {
   "codemirror_mode": {
    "name": "ipython",
    "version": 3
   },
   "file_extension": ".py",
   "mimetype": "text/x-python",
   "name": "python",
   "nbconvert_exporter": "python",
   "pygments_lexer": "ipython3",
   "version": "3.9.12"
  },
  "mimetype": "text/x-python",
  "name": "python",
  "npconvert_exporter": "python",
  "pygments_lexer": "ipython3",
  "toc": {
   "base_numbering": 1,
   "nav_menu": {},
   "number_sections": true,
   "sideBar": true,
   "skip_h1_title": false,
   "title_cell": "Table of Contents",
   "title_sidebar": "Contents",
   "toc_cell": false,
   "toc_position": {},
   "toc_section_display": true,
   "toc_window_display": false
  },
  "varInspector": {
   "cols": {
    "lenName": 16,
    "lenType": 16,
    "lenVar": 40
   },
   "kernels_config": {
    "python": {
     "delete_cmd_postfix": "",
     "delete_cmd_prefix": "del ",
     "library": "var_list.py",
     "varRefreshCmd": "print(var_dic_list())"
    },
    "r": {
     "delete_cmd_postfix": ") ",
     "delete_cmd_prefix": "rm(",
     "library": "var_list.r",
     "varRefreshCmd": "cat(var_dic_list()) "
    }
   },
   "types_to_exclude": [
    "module",
    "function",
    "builtin_function_or_method",
    "instance",
    "_Feature"
   ],
   "window_display": false
  },
  "version": 3
 },
 "nbformat": 4,
 "nbformat_minor": 2
}
