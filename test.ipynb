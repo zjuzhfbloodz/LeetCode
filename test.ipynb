{
 "cells": [
  {
   "cell_type": "code",
   "execution_count": 1,
   "metadata": {},
   "outputs": [],
   "source": [
    "import os\n",
    "import shutil\n",
    "import time\n",
    "p1 = 'D:\\Code\\LeetCode\\leetcode-algorithms'\n",
    "folders = os.listdir(p1)"
   ]
  },
  {
   "cell_type": "code",
   "execution_count": null,
   "metadata": {},
   "outputs": [],
   "source": [
    "#补全缺失的题目\n",
    "id = []\n",
    "for i in range(len(folders)):\n",
    "    if folders[i][:4].isalnum():\n",
    "        id.append(int(folders[i][:4]))\n",
    "    else: \n",
    "        id.append(int(folders[i][:3]))\n",
    "id2 = []\n",
    "for i in range(1,1421):\n",
    "    if i not in id:\n",
    "        id2.append(i)\n",
    "path = 'D:\\Code\\LeetCode\\leetcode-algorithms'\n",
    "for i in id2:\n",
    "    os.mkdir(path+\"\\\\{}. UnKnown\".format(i))"
   ]
  },
  {
   "cell_type": "code",
   "execution_count": 21,
   "metadata": {
    "tags": [
     "outputPrepend"
    ]
   },
   "outputs": [
    {
     "output_type": "stream",
     "name": "stdout",
     "text": "6835702259575806647045396549170580107055408029365524565407553367798082454408054014954534318953113802726603726769523447478238192192714526677939943338306101405105414819705664090901813637296453767095528104868264704914433529355579148731044685634135487735897954629842516947101494253575869699893400976539545740214819819151952085089538422954565146720383752121972115725761141759114990448978941370030912401573418221496592822626\n0.0029883384704589844\n"
    }
   ],
   "source": [
    "start = time.time()\n",
    "class Solution:\n",
    "    def __init__(self,):\n",
    "        self.result = [1,2]  \n",
    "    def g(self, n):\n",
    "        lenth = len(self.result)\n",
    "        if n > lenth:\n",
    "            for i in range(n - lenth):\n",
    "                self.result.append(self.result[-1]+self.result[-2])\n",
    "        return self.result[n - 1]\n",
    "s = Solution()\n",
    "print(s.g(2000))\n",
    "end = time.time()\n",
    "print(end-start)"
   ]
  },
  {
   "cell_type": "code",
   "execution_count": 20,
   "metadata": {},
   "outputs": [
    {
     "output_type": "stream",
     "name": "stdout",
     "text": "6835702259575806647045396549170580107055408029365524565407553367798082454408054014954534318953113802726603726769523447478238192192714526677939943338306101405105414819705664090901813637296453767095528104868264704914433529355579148731044685634135487735897954629842516947101494253575869699893400976539545740214819819151952085089538422954565146720383752121972115725761141759114990448978941370030912401573418221496592822626\n0.007993698120117188\n"
    }
   ],
   "source": [
    "start = time.time()\n",
    "class Solution:\n",
    "    def __init__(self,):\n",
    "        self.result = [1,2]  \n",
    "    def g(self, n):\n",
    "        lenth = len(self.result)\n",
    "        if n <= lenth: return self.result[n - 1]\n",
    "        self.result.append(self.g(n - 1) + self.g(n - 2))\n",
    "        return self.result[n - 1]\n",
    "        \n",
    "s = Solution()\n",
    "print(s.g(2000))\n",
    "end = time.time()\n",
    "print(end-start)"
   ]
  },
  {
   "cell_type": "code",
   "execution_count": 1,
   "metadata": {},
   "outputs": [],
   "source": [
    "class TreeNode:\n",
    "    def __init__(self, x):\n",
    "        self.val = x\n",
    "        self.left = None\n",
    "        self.right = None"
   ]
  },
  {
   "cell_type": "code",
   "execution_count": 25,
   "metadata": {},
   "outputs": [],
   "source": [
    "root = TreeNode(-8)\n",
    "r1 = TreeNode(6)\n",
    "r2 = TreeNode(8)\n",
    "r3 = TreeNode(8)\n",
    "r4 = TreeNode(2)\n",
    "r5 = TreeNode(-2)\n",
    "root.left = r1\n",
    "root.right = r2\n",
    "r2.left = r3\n",
    "r2.right = r4\n",
    "r4.right = r5"
   ]
  },
  {
   "cell_type": "code",
   "execution_count": 26,
   "metadata": {},
   "outputs": [],
   "source": [
    "class Solution:\n",
    "    def __init__(self):\n",
    "        self.output = 0\n",
    "    def pathSum(self, root: TreeNode, sum: int) -> int:\n",
    "        def inner(r,s,s1,flag):\n",
    "            if not r: return 0\n",
    "            if flag:\n",
    "                inner(r.left,sum,sum,True) #这个会算很多遍\n",
    "                inner(r.right,sum,sum,True)\n",
    "            inner(r.left,s-r.val,sum,False)\n",
    "            inner(r.right,s-r.val,sum,False)\n",
    "            if s == r.val: \n",
    "                self.output += 1\n",
    "                print(s,r.val)\n",
    "        inner(root,sum,sum,True)\n",
    "        return self.output"
   ]
  },
  {
   "cell_type": "code",
   "execution_count": 28,
   "metadata": {
    "tags": []
   },
   "outputs": [
    {
     "output_type": "stream",
     "name": "stdout",
     "text": "-2 -2\n6 6\n"
    },
    {
     "output_type": "execute_result",
     "data": {
      "text/plain": "2"
     },
     "metadata": {},
     "execution_count": 28
    }
   ],
   "source": [
    "s = Solution()\n",
    "s.pathSum(root,-2)"
   ]
  },
  {
   "cell_type": "code",
   "execution_count": 39,
   "metadata": {},
   "outputs": [],
   "source": [
    "class Solution:\n",
    "    def candy(self, ratings):\n",
    "        n = len(ratings)\n",
    "        ns = [1 for i in range(n)]\n",
    "        for i in range(1,n):\n",
    "            if ratings[i] > ratings[i-1]: ns[i] = ns[i-1] + 1\n",
    "        for j in range(n-2,-1,-1):\n",
    "            if ratings[j] > ratings[j+1]: ns[j] = max(ns[j],ns[j+1]+1)\n",
    "        return sum(ns)"
   ]
  },
  {
   "cell_type": "code",
   "execution_count": 43,
   "metadata": {
    "tags": []
   },
   "outputs": [
    {
     "output_type": "stream",
     "name": "stdout",
     "text": "5\n4\n3\n2\n1\n0\n[1, 2, 3, 1, 3, 2, 1]\n13\n"
    }
   ],
   "source": [
    "s = Solution().candy([5,7,8,3,4,2,1])\n",
    "print(s)"
   ]
  },
  {
   "cell_type": "code",
   "execution_count": 42,
   "metadata": {},
   "outputs": [],
   "source": [
    "a = [1,2]\n",
    "b = a[0]<a[1]"
   ]
  },
  {
   "cell_type": "code",
   "execution_count": 28,
   "metadata": {},
   "outputs": [],
   "source": [
    "a[0:2]=[3,1]"
   ]
  },
  {
   "cell_type": "code",
   "execution_count": 29,
   "metadata": {},
   "outputs": [
    {
     "output_type": "execute_result",
     "data": {
      "text/plain": "[3, 1]"
     },
     "metadata": {},
     "execution_count": 29
    }
   ],
   "source": [
    "a"
   ]
  },
  {
   "cell_type": "code",
   "execution_count": null,
   "metadata": {},
   "outputs": [],
   "source": []
  }
 ],
 "metadata": {
  "language_info": {
   "name": "python",
   "codemirror_mode": {
    "name": "ipython",
    "version": 3
   },
   "version": "3.7.7-final"
  },
  "orig_nbformat": 2,
  "file_extension": ".py",
  "mimetype": "text/x-python",
  "name": "python",
  "npconvert_exporter": "python",
  "pygments_lexer": "ipython3",
  "version": 3,
  "kernelspec": {
   "name": "python3",
   "display_name": "Python 3"
  }
 },
 "nbformat": 4,
 "nbformat_minor": 2
}