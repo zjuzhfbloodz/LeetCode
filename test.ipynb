{
 "nbformat": 4,
 "nbformat_minor": 2,
 "metadata": {
  "language_info": {
   "name": "python",
   "codemirror_mode": {
    "name": "ipython",
    "version": 3
   },
   "version": "3.7.4-final"
  },
  "orig_nbformat": 2,
  "file_extension": ".py",
  "mimetype": "text/x-python",
  "name": "python",
  "npconvert_exporter": "python",
  "pygments_lexer": "ipython3",
  "version": 3,
  "kernelspec": {
   "name": "python3",
   "display_name": "Python 3"
  }
 },
 "cells": [
  {
   "cell_type": "code",
   "execution_count": 4,
   "metadata": {},
   "outputs": [],
   "source": [
    "import os\n",
    "import shutil\n",
    "p1 = 'D:\\Code\\LeetCode\\leetcode-algorithms'\n",
    "p2 = 'D:\\Markdown\\LEETCODE'\n",
    "folders = os.listdir(p1)\n",
    "files = os.listdir(p2)[:-3]"
   ]
  },
  {
   "cell_type": "code",
   "execution_count": 5,
   "metadata": {},
   "outputs": [],
   "source": [
    "id1 = [0 for i in range(len(files))]\n",
    "id2 = []\n",
    "id3 = []\n",
    "for i in range(len(files)):\n",
    "    id1[i] = int(files[i][1:-3])\n",
    "for i in range(len(folders)):\n",
    "    if folders[i][:4].isalnum():\n",
    "        continue\n",
    "    else: \n",
    "        id2.append(folders[i])\n",
    "        id3.append(int(folders[i][:3]))\n",
    ""
   ]
  },
  {
   "cell_type": "code",
   "execution_count": 6,
   "metadata": {},
   "outputs": [],
   "source": [
    "for i in range(len(id1)):\n",
    "    for j in range(len(id3)):\n",
    "        if id1[i] == id3[j]:\n",
    "            shutil.copy(p2+\"\\\\\"+files[i],p1+'\\\\'+id2[j])"
   ]
  },
  {
   "cell_type": "code",
   "execution_count": 43,
   "metadata": {},
   "outputs": [
    {
     "output_type": "execute_result",
     "data": {
      "text/plain": "False"
     },
     "metadata": {},
     "execution_count": 43
    }
   ],
   "source": [
    "'123.'.isalnum()"
   ]
  },
  {
   "cell_type": "code",
   "execution_count": null,
   "metadata": {},
   "outputs": [],
   "source": []
  }
 ]
}