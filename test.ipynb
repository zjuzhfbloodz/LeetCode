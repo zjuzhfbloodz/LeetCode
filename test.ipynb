{
 "nbformat": 4,
 "nbformat_minor": 2,
 "metadata": {
  "language_info": {
   "name": "python",
   "codemirror_mode": {
    "name": "ipython",
    "version": 3
   },
   "version": "3.7.4-final"
  },
  "orig_nbformat": 2,
  "file_extension": ".py",
  "mimetype": "text/x-python",
  "name": "python",
  "npconvert_exporter": "python",
  "pygments_lexer": "ipython3",
  "version": 3,
  "kernelspec": {
   "name": "python3",
   "display_name": "Python 3"
  }
 },
 "cells": [
  {
   "cell_type": "code",
   "execution_count": 21,
   "metadata": {},
   "outputs": [],
   "source": [
    "import os\n",
    "import shutil\n",
    "p1 = 'D:\\Code\\LeetCode\\leetcode-algorithms'\n",
    "folders = os.listdir(p1)"
   ]
  },
  {
   "cell_type": "code",
   "execution_count": null,
   "metadata": {},
   "outputs": [],
   "source": [
    "#补全缺失的题目\n",
    "id = []\n",
    "for i in range(len(folders)):\n",
    "    if folders[i][:4].isalnum():\n",
    "        id.append(int(folders[i][:4]))\n",
    "    else: \n",
    "        id.append(int(folders[i][:3]))\n",
    "id2 = []\n",
    "for i in range(1,1421):\n",
    "    if i not in id:\n",
    "        id2.append(i)\n",
    "path = 'D:\\Code\\LeetCode\\leetcode-algorithms'\n",
    "for i in id2:\n",
    "    os.mkdir(path+\"\\\\{}. UnKnown\".format(i))"
   ]
  },
  {
   "cell_type": "code",
   "execution_count": 28,
   "metadata": {},
   "outputs": [
    {
     "output_type": "execute_result",
     "data": {
      "text/plain": "'Grid-Illumination'"
     },
     "metadata": {},
     "execution_count": 28
    }
   ],
   "source": [
    "folders[101][6:].replace(\" \",\"-\")"
   ]
  },
  {
   "cell_type": "code",
   "execution_count": null,
   "metadata": {},
   "outputs": [],
   "source": []
  }
 ]
}